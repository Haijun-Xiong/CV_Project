{
 "cells": [
  {
   "cell_type": "code",
   "execution_count": 1,
   "metadata": {},
   "outputs": [],
   "source": [
    "'''\n",
    "@ author : haijun xiong\n",
    "@ date   : 25/Sep/2020\n",
    "\n",
    "'''\n",
    "import numpy as np\n",
    "import matplotlib.pyplot as plt\n",
    "import random"
   ]
  },
  {
   "cell_type": "code",
   "execution_count": 2,
   "metadata": {},
   "outputs": [],
   "source": [
    "def MSE_loss(y_hat, y):\n",
    "    return 1/2 * (y_hat - y)**2\n",
    "class LinearModel():\n",
    "    def __init__(self, train_data, epoch, lr):\n",
    "        x = np.concatenate((train_data[:, :-1], np.ones((train_data.shape[0], 1))), axis=1)\n",
    "        y = train_data[:, -1]\n",
    "        self.x = x\n",
    "        self.y = y.reshape(-1,1)\n",
    "        self.w = np.zeros((x.shape[1], 1))\n",
    "        self.lr = lr\n",
    "        self.epochs = epoch\n",
    "    def train(self):\n",
    "        for epoch in range(self.epochs):\n",
    "            y_hat = self.x @ self.w\n",
    "            loss = MSE_loss(y_hat, self.y)\n",
    "            w_grad = 2 * self.x.T @ (y_hat - self.y)\n",
    "            self.w -= self.lr * w_grad.reshape(-1,1)\n",
    "            if epoch % 10 == 0:\n",
    "                print('epoch:{}, loss:{}'.format(epoch, np.sum(loss)))\n",
    "            if epoch % 100 == 0:\n",
    "                self.lr *= 0.1\n",
    "    def test(self, test_x):\n",
    "        y_hat = test_x @ self.w\n",
    "        return y_hat\n",
    "\n",
    "    def evaluate(self, test_data):\n",
    "        test_x = np.concatenate((test_data[:, :-1], np.ones((test_data.shape[0], 1))), axis=1)\n",
    "        test_y = test_data[:, -1].reshape(-1,1)\n",
    "        y_hat = self.test(test_x)\n",
    "        y_hat[y_hat < 0] = - 1\n",
    "        y_hat[y_hat > 0] = 1\n",
    "        acc = np.sum(y_hat == test_y) / len(test_y)\n",
    "        return acc"
   ]
  },
  {
   "cell_type": "code",
   "execution_count": 3,
   "metadata": {},
   "outputs": [],
   "source": [
    "def get_cov(d):\n",
    "    return np.identity(d)\n",
    "\n",
    "def get_mean(d):\n",
    "    mean = np.zeros(d)\n",
    "    mean[0] = 1\n",
    "    return mean"
   ]
  },
  {
   "cell_type": "code",
   "execution_count": 4,
   "metadata": {},
   "outputs": [],
   "source": [
    "def get_dataset(mu, cov, nums):\n",
    "    scale = 0.8\n",
    "    data1 = np.random.multivariate_normal(mean=mean, cov=cov, size=nums)\n",
    "    data2 = np.random.multivariate_normal(mean=-1*mu, cov=cov, size=nums)\n",
    "    data1 = np.concatenate((data1, -1 * np.ones((nums, 1))), axis=1)\n",
    "    data2 = np.concatenate((data2, np.ones((nums, 1))), axis=1)\n",
    "    train_data1, val_data1 = split_dataset(data1, scale) \n",
    "    train_data2, val_data2 = split_dataset(data2, scale)\n",
    "    train_data = np.vstack((train_data1, train_data2)).astype(np.float32)\n",
    "    val_data = np.vstack((val_data1, val_data2)).astype(np.float32)\n",
    "    return train_data, val_data\n",
    "\n",
    "def split_dataset(dataset, scale):\n",
    "    num_data = dataset.shape[0]\n",
    "    train_dataset = []\n",
    "    valid_dataset = []\n",
    "    train_indice = random.sample(range(num_data), int(num_data * scale))\n",
    "    for index in range(num_data):\n",
    "        if index in train_indice:\n",
    "            train_dataset.append(dataset[index])\n",
    "        else:\n",
    "            valid_dataset.append(dataset[index])\n",
    "    return np.array(train_dataset), np.array(valid_dataset)"
   ]
  },
  {
   "cell_type": "code",
   "execution_count": 5,
   "metadata": {},
   "outputs": [],
   "source": [
    "def show_clf(data, w, nums=500):\n",
    "    x = data[:, :-1]\n",
    "    y = data[:, -1]\n",
    "    xx = np.linspace(-4, 5, nums)\n",
    "    a = w[0]\n",
    "    b = w[1]\n",
    "    c = w[2]\n",
    "    yy = -(a/b)*xx - (c/b)\n",
    "    plt.figure()\n",
    "    plt.scatter(x[:,0], x[:,1], c=y, alpha=0.2)\n",
    "    plt.plot(xx, yy, c='r')\n",
    "    plt.show()"
   ]
  },
  {
   "cell_type": "code",
   "execution_count": 6,
   "metadata": {},
   "outputs": [],
   "source": [
    "np.random.seed(1)\n",
    "epoch = 400\n",
    "nums = 250\n",
    "d = 2\n",
    "mean = np.array([1, -1])\n",
    "cov = get_cov(d)\n",
    "train_data, test_data = get_dataset(mean, cov, nums)"
   ]
  },
  {
   "cell_type": "code",
   "execution_count": 7,
   "metadata": {},
   "outputs": [],
   "source": [
    "model = LinearModel(train_data, epoch, lr=1e-3)"
   ]
  },
  {
   "cell_type": "code",
   "execution_count": 8,
   "metadata": {},
   "outputs": [
    {
     "name": "stdout",
     "output_type": "stream",
     "text": [
      "epoch:0, loss:200.0\n",
      "epoch:10, loss:42982729.582499474\n",
      "epoch:20, loss:53575883603.637764\n",
      "epoch:30, loss:66779844050370.83\n",
      "epoch:40, loss:8.323796598877827e+16\n",
      "epoch:50, loss:1.0375224860858004e+20\n",
      "epoch:60, loss:1.2932234664152944e+23\n",
      "epoch:70, loss:1.6119428316167453e+26\n",
      "epoch:80, loss:2.0092116790944454e+29\n",
      "epoch:90, loss:2.5043887985534555e+32\n",
      "epoch:100, loss:3.12160401991432e+35\n",
      "epoch:110, loss:4.261353602377793e+33\n",
      "epoch:120, loss:1.6351212711583148e+31\n",
      "epoch:130, loss:6.274113394163135e+28\n",
      "epoch:140, loss:2.4074360463142617e+26\n",
      "epoch:150, loss:9.237557488975385e+23\n",
      "epoch:160, loss:3.5445372886547725e+21\n",
      "epoch:170, loss:1.3600721408942148e+19\n",
      "epoch:180, loss:5.21872413179948e+16\n",
      "epoch:190, loss:200247330600634.7\n",
      "epoch:200, loss:768367754332.4053\n",
      "epoch:210, loss:283014346715.98663\n",
      "epoch:220, loss:173099701770.74057\n",
      "epoch:230, loss:105872748515.4013\n",
      "epoch:240, loss:64754813355.37837\n",
      "epoch:250, loss:39605903432.265434\n",
      "epoch:260, loss:24224107924.79624\n",
      "epoch:270, loss:14816160075.090275\n",
      "epoch:280, loss:9061989003.201527\n",
      "epoch:290, loss:5542572733.733551\n",
      "epoch:300, loss:3389996676.63515\n",
      "epoch:310, loss:3089179483.9136553\n",
      "epoch:320, loss:2942568398.640975\n",
      "epoch:330, loss:2802915410.4696784\n",
      "epoch:340, loss:2669890291.1964736\n",
      "epoch:350, loss:2543178485.102177\n",
      "epoch:360, loss:2422480365.1425686\n",
      "epoch:370, loss:2307510524.4400935\n",
      "epoch:380, loss:2197997101.4010615\n",
      "epoch:390, loss:2093681136.8624787\n"
     ]
    }
   ],
   "source": [
    "model.train()"
   ]
  },
  {
   "cell_type": "code",
   "execution_count": 9,
   "metadata": {},
   "outputs": [
    {
     "name": "stdout",
     "output_type": "stream",
     "text": [
      "[[-1316.24952437]\n",
      " [ 1246.38155281]\n",
      " [  -31.26889764]]\n"
     ]
    },
    {
     "data": {
      "image/png": "[encoded data removed]",
      "text/plain": [
       "<Figure size 432x288 with 1 Axes>"
      ]
     },
     "metadata": {
      "needs_background": "light"
     },
     "output_type": "display_data"
    }
   ],
   "source": [
    "print(model.w)\n",
    "show_clf(train_data, model.w, 2 * nums)     # plot the figure"
   ]
  },
  {
   "cell_type": "code",
   "execution_count": 10,
   "metadata": {},
   "outputs": [
    {
     "data": {
      "image/png": "[encoded data removed]",
      "text/plain": [
       "<Figure size 432x288 with 1 Axes>"
      ]
     },
     "metadata": {
      "needs_background": "light"
     },
     "output_type": "display_data"
    }
   ],
   "source": [
    "show_clf(test_data, model.w, 2 * nums) "
   ]
  },
  {
   "cell_type": "code",
   "execution_count": 11,
   "metadata": {},
   "outputs": [
    {
     "data": {
      "text/plain": [
       "0.92"
      ]
     },
     "execution_count": 11,
     "metadata": {},
     "output_type": "execute_result"
    }
   ],
   "source": [
    "acc = model.evaluate(test_data)\n",
    "acc"
   ]
  },
  {
   "cell_type": "code",
   "execution_count": 12,
   "metadata": {},
   "outputs": [
    {
     "name": "stdout",
     "output_type": "stream",
     "text": [
      "epoch:0, loss:200.0\n",
      "epoch:10, loss:1269445225411.42\n",
      "epoch:20, loss:3.3625517905799715e+20\n",
      "epoch:30, loss:9.512837687693011e+28\n",
      "epoch:40, loss:2.705111204140171e+37\n",
      "epoch:50, loss:7.70059629763357e+45\n",
      "epoch:60, loss:2.193017199901026e+54\n",
      "epoch:70, loss:6.246575493908445e+62\n",
      "epoch:80, loss:1.779432995599292e+71\n",
      "epoch:90, loss:5.06921446954243e+79\n",
      "epoch:100, loss:1.444139635107685e+88\n",
      "epoch:110, loss:2.8763955634289817e+85\n",
      "epoch:120, loss:3.300626842396602e+81\n",
      "epoch:130, loss:3.7874372165854654e+77\n",
      "epoch:140, loss:4.3460634038388097e+73\n",
      "epoch:150, loss:4.987108435517449e+69\n",
      "epoch:160, loss:5.722745349064852e+65\n",
      "epoch:170, loss:6.566953411230313e+61\n",
      "epoch:180, loss:7.546248312079358e+57\n",
      "epoch:190, loss:9.39067626701948e+54\n",
      "epoch:200, loss:7.081494438349618e+54\n",
      "epoch:210, loss:6.849671124331007e+54\n",
      "epoch:220, loss:6.732619889596823e+54\n",
      "epoch:230, loss:6.618564791497492e+54\n",
      "epoch:240, loss:6.507403010958742e+54\n",
      "epoch:250, loss:6.399037383841605e+54\n",
      "epoch:260, loss:6.293375384614458e+54\n",
      "epoch:270, loss:6.190328548304762e+54\n",
      "epoch:280, loss:6.089812106364369e+54\n",
      "epoch:290, loss:5.991744729360658e+54\n",
      "epoch:300, loss:5.896048325219813e+54\n",
      "epoch:310, loss:5.8781324243882655e+54\n",
      "epoch:320, loss:5.868738790491846e+54\n",
      "epoch:330, loss:5.859367869081643e+54\n",
      "epoch:340, loss:5.850019587799366e+54\n",
      "epoch:350, loss:5.8406938745711865e+54\n",
      "epoch:360, loss:5.8313906576063154e+54\n",
      "epoch:370, loss:5.8221098653956846e+54\n",
      "epoch:380, loss:5.8128514267105274e+54\n",
      "epoch:390, loss:5.80361527060109e+54\n",
      "epoch:400, loss:5.794401326395235e+54\n",
      "epoch:410, loss:5.792653227045289e+54\n",
      "epoch:420, loss:5.791733521817698e+54\n",
      "epoch:430, loss:5.7908140377697614e+54\n",
      "epoch:440, loss:5.789894774831327e+54\n",
      "epoch:450, loss:5.788975732932286e+54\n",
      "epoch:460, loss:5.7880569120025374e+54\n",
      "epoch:470, loss:5.7871383119720234e+54\n",
      "epoch:480, loss:5.786219932770705e+54\n",
      "epoch:490, loss:5.785301774328574e+54\n",
      "epoch:500, loss:5.7843838365756506e+54\n",
      "epoch:510, loss:5.78420945379246e+54\n",
      "epoch:520, loss:5.784117676840285e+54\n",
      "epoch:530, loss:5.78402590209407e+54\n",
      "epoch:540, loss:5.7839341295537416e+54\n",
      "epoch:550, loss:5.783842359219233e+54\n",
      "epoch:560, loss:5.783750591090469e+54\n",
      "epoch:570, loss:5.783658825167388e+54\n",
      "epoch:580, loss:5.7835670614499116e+54\n",
      "epoch:590, loss:5.783475299937975e+54\n",
      "epoch:600, loss:5.7833835406315084e+54\n",
      "epoch:610, loss:5.7833661066170684e+54\n",
      "epoch:620, loss:5.783356930854584e+54\n",
      "epoch:630, loss:5.7833477551141514e+54\n",
      "epoch:640, loss:5.7833385793957745e+54\n",
      "epoch:650, loss:5.7833294036994526e+54\n",
      "epoch:660, loss:5.7833202280251824e+54\n",
      "epoch:670, loss:5.783311052372967e+54\n",
      "epoch:680, loss:5.7833018767428045e+54\n",
      "epoch:690, loss:5.7832927011346934e+54\n",
      "epoch:700, loss:5.783283525548641e+54\n",
      "epoch:710, loss:5.783281782189824e+54\n",
      "epoch:720, loss:5.783280864632901e+54\n",
      "epoch:730, loss:5.783279947076199e+54\n",
      "epoch:740, loss:5.7832790295197144e+54\n",
      "epoch:750, loss:5.783278111963454e+54\n",
      "epoch:760, loss:5.783277194407411e+54\n",
      "epoch:770, loss:5.783276276851586e+54\n",
      "epoch:780, loss:5.7832753592959865e+54\n",
      "epoch:790, loss:5.783274441740604e+54\n",
      "epoch:800, loss:5.783273524185446e+54\n",
      "epoch:810, loss:5.7832733498499944e+54\n",
      "epoch:820, loss:5.7832732580944964e+54\n",
      "epoch:830, loss:5.783273166338999e+54\n",
      "epoch:840, loss:5.783273074583505e+54\n",
      "epoch:850, loss:5.783272982828013e+54\n",
      "epoch:860, loss:5.783272891072525e+54\n",
      "epoch:870, loss:5.783272799317039e+54\n",
      "epoch:880, loss:5.783272707561551e+54\n",
      "epoch:890, loss:5.7832726158060686e+54\n",
      "epoch:900, loss:5.783272524050594e+54\n",
      "epoch:910, loss:5.783272506617051e+54\n",
      "epoch:920, loss:5.7832724974415015e+54\n",
      "epoch:930, loss:5.783272488265952e+54\n",
      "epoch:940, loss:5.783272479090404e+54\n",
      "epoch:950, loss:5.783272469914855e+54\n",
      "epoch:960, loss:5.7832724607393056e+54\n",
      "epoch:970, loss:5.783272451563759e+54\n",
      "epoch:980, loss:5.7832724423882096e+54\n",
      "epoch:990, loss:5.783272433212661e+54\n",
      "epoch:1000, loss:5.783272424037113e+54\n",
      "epoch:1010, loss:5.783272422293759e+54\n",
      "epoch:1020, loss:5.783272421376202e+54\n",
      "epoch:1030, loss:5.783272420458648e+54\n",
      "epoch:1040, loss:5.7832724195410934e+54\n",
      "epoch:1050, loss:5.783272418623537e+54\n",
      "epoch:1060, loss:5.78327241770598e+54\n",
      "epoch:1070, loss:5.783272416788428e+54\n",
      "epoch:1080, loss:5.783272415870872e+54\n",
      "epoch:1090, loss:5.783272414953313e+54\n",
      "epoch:1100, loss:5.78327241403576e+54\n",
      "epoch:1110, loss:5.783272413861422e+54\n",
      "epoch:1120, loss:5.783272413769668e+54\n",
      "epoch:1130, loss:5.783272413677912e+54\n",
      "epoch:1140, loss:5.783272413586156e+54\n",
      "epoch:1150, loss:5.783272413494401e+54\n",
      "epoch:1160, loss:5.783272413402642e+54\n",
      "epoch:1170, loss:5.7832724133108854e+54\n",
      "epoch:1180, loss:5.78327241321913e+54\n",
      "epoch:1190, loss:5.7832724131273704e+54\n",
      "epoch:1200, loss:5.7832724130356126e+54\n",
      "epoch:1210, loss:5.783272413018181e+54\n",
      "epoch:1220, loss:5.7832724130090086e+54\n",
      "epoch:1230, loss:5.783272412999833e+54\n",
      "epoch:1240, loss:5.7832724129906565e+54\n",
      "epoch:1250, loss:5.7832724129814784e+54\n",
      "epoch:1260, loss:5.783272412972305e+54\n",
      "epoch:1270, loss:5.783272412963129e+54\n",
      "epoch:1280, loss:5.78327241295395e+54\n",
      "epoch:1290, loss:5.7832724129447776e+54\n",
      "epoch:1300, loss:5.783272412935599e+54\n",
      "epoch:1310, loss:5.7832724129338566e+54\n",
      "epoch:1320, loss:5.7832724129329426e+54\n",
      "epoch:1330, loss:5.783272412932025e+54\n",
      "epoch:1340, loss:5.7832724129311085e+54\n",
      "epoch:1350, loss:5.783272412930194e+54\n",
      "epoch:1360, loss:5.783272412929274e+54\n",
      "epoch:1370, loss:5.7832724129283576e+54\n",
      "epoch:1380, loss:5.78327241292744e+54\n",
      "epoch:1390, loss:5.7832724129265255e+54\n",
      "epoch:1400, loss:5.783272412925607e+54\n",
      "epoch:1410, loss:5.7832724129254326e+54\n",
      "epoch:1420, loss:5.783272412925338e+54\n",
      "epoch:1430, loss:5.783272412925247e+54\n",
      "epoch:1440, loss:5.7832724129251494e+54\n",
      "epoch:1450, loss:5.783272412925058e+54\n",
      "epoch:1460, loss:5.783272412924963e+54\n",
      "epoch:1470, loss:5.783272412924872e+54\n",
      "epoch:1480, loss:5.783272412924778e+54\n",
      "epoch:1490, loss:5.783272412924685e+54\n",
      "epoch:1500, loss:5.7832724129245914e+54\n",
      "epoch:1510, loss:5.783272412924578e+54\n",
      "epoch:1520, loss:5.783272412924574e+54\n",
      "epoch:1530, loss:5.7832724129245696e+54\n",
      "epoch:1540, loss:5.783272412924567e+54\n",
      "epoch:1550, loss:5.7832724129245614e+54\n",
      "epoch:1560, loss:5.783272412924557e+54\n",
      "epoch:1570, loss:5.783272412924555e+54\n",
      "epoch:1580, loss:5.783272412924547e+54\n",
      "epoch:1590, loss:5.783272412924545e+54\n",
      "epoch:1600, loss:5.783272412924543e+54\n",
      "epoch:1610, loss:5.783272412924543e+54\n",
      "epoch:1620, loss:5.783272412924543e+54\n",
      "epoch:1630, loss:5.783272412924543e+54\n",
      "epoch:1640, loss:5.783272412924543e+54\n",
      "epoch:1650, loss:5.783272412924544e+54\n",
      "epoch:1660, loss:5.7832724129245424e+54\n",
      "epoch:1670, loss:5.7832724129245424e+54\n",
      "epoch:1680, loss:5.7832724129245424e+54\n",
      "epoch:1690, loss:5.783272412924543e+54\n",
      "epoch:1700, loss:5.783272412924543e+54\n",
      "epoch:1710, loss:5.783272412924543e+54\n",
      "epoch:1720, loss:5.783272412924543e+54\n",
      "epoch:1730, loss:5.783272412924543e+54\n",
      "epoch:1740, loss:5.783272412924543e+54\n",
      "epoch:1750, loss:5.783272412924543e+54\n",
      "epoch:1760, loss:5.783272412924543e+54\n",
      "epoch:1770, loss:5.783272412924543e+54\n",
      "epoch:1780, loss:5.783272412924543e+54\n",
      "epoch:1790, loss:5.783272412924543e+54\n",
      "epoch:1800, loss:5.783272412924543e+54\n",
      "epoch:1810, loss:5.783272412924543e+54\n",
      "epoch:1820, loss:5.783272412924543e+54\n",
      "epoch:1830, loss:5.783272412924543e+54\n",
      "epoch:1840, loss:5.783272412924543e+54\n",
      "epoch:1850, loss:5.783272412924543e+54\n",
      "epoch:1860, loss:5.783272412924543e+54\n",
      "epoch:1870, loss:5.783272412924543e+54\n",
      "epoch:1880, loss:5.783272412924543e+54\n",
      "epoch:1890, loss:5.783272412924543e+54\n",
      "epoch:1900, loss:5.783272412924543e+54\n",
      "epoch:1910, loss:5.783272412924543e+54\n",
      "epoch:1920, loss:5.783272412924543e+54\n",
      "epoch:1930, loss:5.783272412924543e+54\n",
      "epoch:1940, loss:5.783272412924543e+54\n",
      "epoch:1950, loss:5.783272412924543e+54\n",
      "epoch:1960, loss:5.783272412924543e+54\n",
      "epoch:1970, loss:5.783272412924543e+54\n",
      "epoch:1980, loss:5.783272412924543e+54\n",
      "epoch:1990, loss:5.783272412924543e+54\n"
     ]
    }
   ],
   "source": [
    "d = 500\n",
    "mean = get_mean(d)\n",
    "cov = get_cov(d)\n",
    "train_data, test_data = get_dataset(mean, cov, nums)\n",
    "model = LinearModel(train_data, epoch * 5)\n",
    "model.train()"
   ]
  },
  {
   "cell_type": "code",
   "execution_count": 13,
   "metadata": {},
   "outputs": [
    {
     "data": {
      "text/plain": [
       "0.56"
      ]
     },
     "execution_count": 13,
     "metadata": {},
     "output_type": "execute_result"
    }
   ],
   "source": [
    "y_hat = model.evaluate(test_data)\n",
    "y_hat"
   ]
  }
 ],
 "metadata": {
  "interpreter": {
   "hash": "49cb93f377a7abe7414b7b0f21fb3017538004a126cf690fb524202736b7fb92"
  },
  "kernelspec": {
   "display_name": "Python 3.9.7 ('base')",
   "language": "python",
   "name": "python3"
  },
  "language_info": {
   "codemirror_mode": {
    "name": "ipython",
    "version": 3
   },
   "file_extension": ".py",
   "mimetype": "text/x-python",
   "name": "python",
   "nbconvert_exporter": "python",
   "pygments_lexer": "ipython3",
   "version": "3.9.7"
  },
  "orig_nbformat": 4
 },
 "nbformat": 4,
 "nbformat_minor": 2
}
